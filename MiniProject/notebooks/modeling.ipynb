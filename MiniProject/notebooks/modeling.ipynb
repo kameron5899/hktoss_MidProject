{
 "cells": [
  {
   "cell_type": "code",
   "execution_count": 1,
   "id": "214e3aab",
   "metadata": {},
   "outputs": [
    {
     "name": "stdout",
     "output_type": "stream",
     "text": [
      "Requirement already satisfied: openpyxl in c:\\users\\user\\.conda\\envs\\ml-env\\lib\\site-packages (3.1.5)\n",
      "Requirement already satisfied: et-xmlfile in c:\\users\\user\\.conda\\envs\\ml-env\\lib\\site-packages (from openpyxl) (1.1.0)\n",
      "Note: you may need to restart the kernel to use updated packages.\n"
     ]
    }
   ],
   "source": [
    "pip install openpyxl"
   ]
  },
  {
   "cell_type": "code",
   "execution_count": 2,
   "id": "f4a3a2bb-3b12-4272-9645-e9960d44c7e0",
   "metadata": {},
   "outputs": [
    {
     "data": {
      "text/html": [
       "<div>\n",
       "<style scoped>\n",
       "    .dataframe tbody tr th:only-of-type {\n",
       "        vertical-align: middle;\n",
       "    }\n",
       "\n",
       "    .dataframe tbody tr th {\n",
       "        vertical-align: top;\n",
       "    }\n",
       "\n",
       "    .dataframe thead th {\n",
       "        text-align: right;\n",
       "    }\n",
       "</style>\n",
       "<table border=\"1\" class=\"dataframe\">\n",
       "  <thead>\n",
       "    <tr style=\"text-align: right;\">\n",
       "      <th></th>\n",
       "      <th>Unnamed: 0.1</th>\n",
       "      <th>Unnamed: 0</th>\n",
       "      <th>contents</th>\n",
       "      <th>point</th>\n",
       "      <th>label</th>\n",
       "    </tr>\n",
       "  </thead>\n",
       "  <tbody>\n",
       "    <tr>\n",
       "      <th>0</th>\n",
       "      <td>4</td>\n",
       "      <td>4</td>\n",
       "      <td>너무 웨이팅이 길어요노답</td>\n",
       "      <td>3</td>\n",
       "      <td>0</td>\n",
       "    </tr>\n",
       "    <tr>\n",
       "      <th>1</th>\n",
       "      <td>9</td>\n",
       "      <td>9</td>\n",
       "      <td>맑고 산뜻한걸 알겠으나  인상찌푸려질정도로 짜던데 웨이팅 하고나서 제일 실망한집 차...</td>\n",
       "      <td>1</td>\n",
       "      <td>0</td>\n",
       "    </tr>\n",
       "    <tr>\n",
       "      <th>2</th>\n",
       "      <td>11</td>\n",
       "      <td>11</td>\n",
       "      <td>호불호가 갈리는 라멘</td>\n",
       "      <td>3</td>\n",
       "      <td>0</td>\n",
       "    </tr>\n",
       "    <tr>\n",
       "      <th>3</th>\n",
       "      <td>13</td>\n",
       "      <td>13</td>\n",
       "      <td>토요일시반에 가서 웨이팅없었음 이런집은 애매한 시간을 노리시라 그치만 딱히 맛집이라...</td>\n",
       "      <td>3</td>\n",
       "      <td>0</td>\n",
       "    </tr>\n",
       "    <tr>\n",
       "      <th>4</th>\n",
       "      <td>19</td>\n",
       "      <td>19</td>\n",
       "      <td>차슈가 맛있고 국물은 깔끔한 맛으로 먹을만하긴 했는데 너무 기대해서 그런가 기대했던...</td>\n",
       "      <td>3</td>\n",
       "      <td>0</td>\n",
       "    </tr>\n",
       "  </tbody>\n",
       "</table>\n",
       "</div>"
      ],
      "text/plain": [
       "   Unnamed: 0.1  Unnamed: 0  \\\n",
       "0             4           4   \n",
       "1             9           9   \n",
       "2            11          11   \n",
       "3            13          13   \n",
       "4            19          19   \n",
       "\n",
       "                                            contents  point  label  \n",
       "0                                      너무 웨이팅이 길어요노답      3      0  \n",
       "1  맑고 산뜻한걸 알겠으나  인상찌푸려질정도로 짜던데 웨이팅 하고나서 제일 실망한집 차...      1      0  \n",
       "2                                        호불호가 갈리는 라멘      3      0  \n",
       "3  토요일시반에 가서 웨이팅없었음 이런집은 애매한 시간을 노리시라 그치만 딱히 맛집이라...      3      0  \n",
       "4  차슈가 맛있고 국물은 깔끔한 맛으로 먹을만하긴 했는데 너무 기대해서 그런가 기대했던...      3      0  "
      ]
     },
     "execution_count": 2,
     "metadata": {},
     "output_type": "execute_result"
    }
   ],
   "source": [
    "import pandas as pd\n",
    "\n",
    "comments_df = pd.read_excel('data/comments_preprocessed.xlsx')\n",
    "comments_df.head()"
   ]
  },
  {
   "cell_type": "code",
   "execution_count": 3,
   "id": "7a5931af-4b3e-4aa9-8d43-0b650e698ceb",
   "metadata": {},
   "outputs": [
    {
     "data": {
      "text/html": [
       "<div>\n",
       "<style scoped>\n",
       "    .dataframe tbody tr th:only-of-type {\n",
       "        vertical-align: middle;\n",
       "    }\n",
       "\n",
       "    .dataframe tbody tr th {\n",
       "        vertical-align: top;\n",
       "    }\n",
       "\n",
       "    .dataframe thead th {\n",
       "        text-align: right;\n",
       "    }\n",
       "</style>\n",
       "<table border=\"1\" class=\"dataframe\">\n",
       "  <thead>\n",
       "    <tr style=\"text-align: right;\">\n",
       "      <th></th>\n",
       "      <th>contents</th>\n",
       "      <th>label</th>\n",
       "    </tr>\n",
       "  </thead>\n",
       "  <tbody>\n",
       "    <tr>\n",
       "      <th>0</th>\n",
       "      <td>너무 웨이팅이 길어요노답</td>\n",
       "      <td>0</td>\n",
       "    </tr>\n",
       "    <tr>\n",
       "      <th>1</th>\n",
       "      <td>맑고 산뜻한걸 알겠으나  인상찌푸려질정도로 짜던데 웨이팅 하고나서 제일 실망한집 차...</td>\n",
       "      <td>0</td>\n",
       "    </tr>\n",
       "    <tr>\n",
       "      <th>2</th>\n",
       "      <td>호불호가 갈리는 라멘</td>\n",
       "      <td>0</td>\n",
       "    </tr>\n",
       "    <tr>\n",
       "      <th>3</th>\n",
       "      <td>토요일시반에 가서 웨이팅없었음 이런집은 애매한 시간을 노리시라 그치만 딱히 맛집이라...</td>\n",
       "      <td>0</td>\n",
       "    </tr>\n",
       "    <tr>\n",
       "      <th>4</th>\n",
       "      <td>차슈가 맛있고 국물은 깔끔한 맛으로 먹을만하긴 했는데 너무 기대해서 그런가 기대했던...</td>\n",
       "      <td>0</td>\n",
       "    </tr>\n",
       "  </tbody>\n",
       "</table>\n",
       "</div>"
      ],
      "text/plain": [
       "                                            contents  label\n",
       "0                                      너무 웨이팅이 길어요노답      0\n",
       "1  맑고 산뜻한걸 알겠으나  인상찌푸려질정도로 짜던데 웨이팅 하고나서 제일 실망한집 차...      0\n",
       "2                                        호불호가 갈리는 라멘      0\n",
       "3  토요일시반에 가서 웨이팅없었음 이런집은 애매한 시간을 노리시라 그치만 딱히 맛집이라...      0\n",
       "4  차슈가 맛있고 국물은 깔끔한 맛으로 먹을만하긴 했는데 너무 기대해서 그런가 기대했던...      0"
      ]
     },
     "execution_count": 3,
     "metadata": {},
     "output_type": "execute_result"
    }
   ],
   "source": [
    "comments_df_filtered = comments_df[['contents', 'label']]\n",
    "comments_df_filtered.head()"
   ]
  },
  {
   "cell_type": "code",
   "execution_count": 4,
   "id": "7630eddb-080b-40fd-8ede-8fbacfce19e4",
   "metadata": {},
   "outputs": [
    {
     "name": "stdout",
     "output_type": "stream",
     "text": [
      "<class 'pandas.core.frame.DataFrame'>\n",
      "RangeIndex: 1644 entries, 0 to 1643\n",
      "Data columns (total 2 columns):\n",
      " #   Column    Non-Null Count  Dtype \n",
      "---  ------    --------------  ----- \n",
      " 0   contents  1644 non-null   object\n",
      " 1   label     1644 non-null   int64 \n",
      "dtypes: int64(1), object(1)\n",
      "memory usage: 25.8+ KB\n"
     ]
    }
   ],
   "source": [
    "comments_df_filtered.info()"
   ]
  },
  {
   "cell_type": "code",
   "execution_count": 5,
   "id": "170c2c2c",
   "metadata": {},
   "outputs": [
    {
     "data": {
      "text/plain": [
       "822"
      ]
     },
     "execution_count": 5,
     "metadata": {},
     "output_type": "execute_result"
    }
   ],
   "source": [
    "comments_df_filtered.loc[comments_df_filtered['label'] == 1].shape[0]"
   ]
  },
  {
   "cell_type": "code",
   "execution_count": 6,
   "id": "3f89e018-054e-45df-9f73-f55480488429",
   "metadata": {},
   "outputs": [],
   "source": [
    "from sklearn.model_selection import train_test_split\n",
    "\n",
    "X_train, X_test, y_train, y_test = train_test_split(\n",
    "    comments_df_filtered['contents'],\n",
    "    comments_df_filtered['label'],\n",
    "    test_size=0.2,\n",
    "    random_state=42,\n",
    "    stratify=comments_df_filtered['label']\n",
    ")"
   ]
  },
  {
   "cell_type": "code",
   "execution_count": 7,
   "id": "0c6d83e9",
   "metadata": {},
   "outputs": [
    {
     "data": {
      "text/plain": [
       "1315"
      ]
     },
     "execution_count": 7,
     "metadata": {},
     "output_type": "execute_result"
    }
   ],
   "source": [
    "len(y_train)"
   ]
  },
  {
   "cell_type": "code",
   "execution_count": 8,
   "id": "1c72ba42",
   "metadata": {},
   "outputs": [
    {
     "data": {
      "application/vnd.jupyter.widget-view+json": {
       "model_id": "ff552e0d8b5743ef8ccf137cc3818a8c",
       "version_major": 2,
       "version_minor": 0
      },
      "text/plain": [
       "  0%|          | 0/1315 [00:00<?, ?it/s]"
      ]
     },
     "metadata": {},
     "output_type": "display_data"
    }
   ],
   "source": [
    "from tqdm.notebook import tqdm\n",
    "from konlpy.tag import Okt\n",
    "\n",
    "okt = Okt()\n",
    "X_train_okt = []\n",
    "\n",
    "for sentence in tqdm(X_train):\n",
    "  # 형태소 분리 및 정규화, 어간추출\n",
    "  temp_X = okt.morphs(sentence, stem=True, norm=True)\n",
    "  X_train_okt.append(temp_X)"
   ]
  },
  {
   "cell_type": "code",
   "execution_count": 10,
   "id": "340c18d5",
   "metadata": {},
   "outputs": [
    {
     "data": {
      "text/plain": [
       "1315"
      ]
     },
     "execution_count": 10,
     "metadata": {},
     "output_type": "execute_result"
    }
   ],
   "source": [
    "len(X_train_okt)"
   ]
  },
  {
   "cell_type": "code",
   "execution_count": 11,
   "id": "25da8a83",
   "metadata": {},
   "outputs": [
    {
     "data": {
      "text/plain": [
       "<1315x3568 sparse matrix of type '<class 'numpy.float64'>'\n",
       "\twith 19612 stored elements in Compressed Sparse Row format>"
      ]
     },
     "execution_count": 11,
     "metadata": {},
     "output_type": "execute_result"
    }
   ],
   "source": [
    "from sklearn.feature_extraction.text import TfidfVectorizer\n",
    "\n",
    "tfidf_vectorizer = TfidfVectorizer()\n",
    "\n",
    "X_train_joined = [ ' '.join(words) for words in X_train_okt ]\n",
    "X_train_tfidf = tfidf_vectorizer.fit_transform(X_train_joined)\n",
    "X_train_tfidf"
   ]
  },
  {
   "cell_type": "code",
   "execution_count": 12,
   "id": "28371f77",
   "metadata": {},
   "outputs": [
    {
     "data": {
      "text/plain": [
       "3568"
      ]
     },
     "execution_count": 12,
     "metadata": {},
     "output_type": "execute_result"
    }
   ],
   "source": [
    "len(tfidf_vectorizer.vocabulary_)"
   ]
  },
  {
   "cell_type": "code",
   "execution_count": 43,
   "id": "2b3a5c17",
   "metadata": {},
   "outputs": [
    {
     "name": "stdout",
     "output_type": "stream",
     "text": [
      "Fitting 5 folds for each of 36 candidates, totalling 180 fits\n"
     ]
    }
   ],
   "source": [
    "from sklearn.linear_model import LogisticRegression\n",
    "from sklearn.model_selection import GridSearchCV\n",
    "\n",
    "param_grid = [\n",
    "    {'C': [0.01, 0.1, 1, 10], 'solver': ['liblinear'], 'penalty': ['l1', 'l2'], 'max_iter': [100, 200, 500]},\n",
    "    {'C': [0.01, 0.1, 1, 10], 'solver': ['lbfgs'], 'penalty': ['l2'], 'max_iter': [100, 200, 500]},\n",
    "]\n",
    "\n",
    "lr = LogisticRegression()\n",
    "grid_search = GridSearchCV(estimator=lr, param_grid=param_grid, cv=5, scoring='accuracy', n_jobs=-1, verbose=2)\n",
    "grid_search.fit(X_train_tfidf, y_train)\n",
    "\n",
    "best_lr = grid_search.best_estimator_"
   ]
  },
  {
   "cell_type": "code",
   "execution_count": 44,
   "id": "e4610b6f-db8c-44b7-a734-01ccb940f581",
   "metadata": {},
   "outputs": [],
   "source": [
    "best_params_df = pd.DataFrame([grid_search.best_params_])\n",
    "best_params_df.to_csv('best_params.csv', index=False)"
   ]
  },
  {
   "cell_type": "code",
   "execution_count": 46,
   "id": "ad035438",
   "metadata": {},
   "outputs": [
    {
     "data": {
      "application/vnd.jupyter.widget-view+json": {
       "model_id": "8a1cef96938f4266b4031c9c2fbfdef8",
       "version_major": 2,
       "version_minor": 0
      },
      "text/plain": [
       "  0%|          | 0/329 [00:00<?, ?it/s]"
      ]
     },
     "metadata": {},
     "output_type": "display_data"
    }
   ],
   "source": [
    "X_test_okt = []\n",
    "\n",
    "for sentence in tqdm(X_test):\n",
    "  # 형태소 분리 및 정규화, 어간추출\n",
    "  temp_X = okt.morphs(sentence, stem=True, norm=True)\n",
    "  X_test_okt.append(temp_X)"
   ]
  },
  {
   "cell_type": "code",
   "execution_count": 47,
   "id": "14cd6b03",
   "metadata": {},
   "outputs": [
    {
     "data": {
      "text/plain": [
       "329"
      ]
     },
     "execution_count": 47,
     "metadata": {},
     "output_type": "execute_result"
    }
   ],
   "source": [
    "len(X_test_okt)"
   ]
  },
  {
   "cell_type": "code",
   "execution_count": 48,
   "id": "cce7470c",
   "metadata": {},
   "outputs": [
    {
     "data": {
      "text/plain": [
       "329"
      ]
     },
     "execution_count": 48,
     "metadata": {},
     "output_type": "execute_result"
    }
   ],
   "source": [
    "len(y_test)"
   ]
  },
  {
   "cell_type": "code",
   "execution_count": 49,
   "id": "29df61de",
   "metadata": {},
   "outputs": [
    {
     "data": {
      "text/plain": [
       "<329x3568 sparse matrix of type '<class 'numpy.float64'>'\n",
       "\twith 4579 stored elements in Compressed Sparse Row format>"
      ]
     },
     "execution_count": 49,
     "metadata": {},
     "output_type": "execute_result"
    }
   ],
   "source": [
    "X_test_joined = [ ' '.join(words) for words in X_test_okt ]\n",
    "X_test_tfidf = tfidf_vectorizer.transform(X_test_joined)\n",
    "X_test_tfidf"
   ]
  },
  {
   "cell_type": "code",
   "execution_count": 50,
   "id": "7ffda4b5",
   "metadata": {},
   "outputs": [
    {
     "data": {
      "text/plain": [
       "0.7963525835866262"
      ]
     },
     "execution_count": 50,
     "metadata": {},
     "output_type": "execute_result"
    }
   ],
   "source": [
    "from sklearn.metrics import accuracy_score\n",
    "\n",
    "accuracy_score(best_lr.predict(X_test_tfidf), y_test)"
   ]
  },
  {
   "cell_type": "code",
   "execution_count": 38,
   "id": "a8c400eb-68a7-4164-a989-9ab0e318771b",
   "metadata": {},
   "outputs": [],
   "source": [
    "def sentiment_predict(sentence):\n",
    "  sentence_norm_stem = okt.morphs(sentence, stem=True, norm=True)\n",
    "  sentence_test = ' '.join(sentence_norm_stem)\n",
    "\n",
    "  text_vector = tfidf_vectorizer.transform([sentence_test])\n",
    "\n",
    "  pred = best_lr.predict(text_vector)\n",
    "  print(sentence, \"====>\", pred)"
   ]
  },
  {
   "cell_type": "code",
   "execution_count": 41,
   "id": "33ea2326-8969-49c7-a739-49236ac62e0a",
   "metadata": {},
   "outputs": [
    {
     "name": "stdin",
     "output_type": "stream",
     "text": [
      " 맛은 있으나 알바가 미숙함 첫 주문할때만 동일 메뉴 2인분 해야하는데 알바가 이부분 설명을 제대로 못해서 계속 2인분씩 주문했음\n"
     ]
    },
    {
     "name": "stdout",
     "output_type": "stream",
     "text": [
      "맛은 있으나 알바가 미숙함 첫 주문할때만 동일 메뉴 2인분 해야하는데 알바가 이부분 설명을 제대로 못해서 계속 2인분씩 주문했음 ====> [0]\n"
     ]
    }
   ],
   "source": [
    "txt = input()\n",
    "sentiment_predict(txt)"
   ]
  },
  {
   "cell_type": "code",
   "execution_count": null,
   "id": "76428b9c-5acf-4c38-982f-b0717e342701",
   "metadata": {},
   "outputs": [],
   "source": []
  }
 ],
 "metadata": {
  "kernelspec": {
   "display_name": "Python 3 (ipykernel)",
   "language": "python",
   "name": "python3"
  },
  "language_info": {
   "codemirror_mode": {
    "name": "ipython",
    "version": 3
   },
   "file_extension": ".py",
   "mimetype": "text/x-python",
   "name": "python",
   "nbconvert_exporter": "python",
   "pygments_lexer": "ipython3",
   "version": "3.8.18"
  }
 },
 "nbformat": 4,
 "nbformat_minor": 5
}
