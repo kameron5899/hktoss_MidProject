{
 "cells": [
  {
   "cell_type": "code",
   "execution_count": 225,
   "id": "4b5b2966-d56a-4649-84fa-b2c3c4d090b8",
   "metadata": {},
   "outputs": [],
   "source": [
    "DATA_PATH = '../data/given/'"
   ]
  },
  {
   "cell_type": "code",
   "execution_count": 226,
   "id": "9066cac5-311e-4eae-87ea-c99b1c775652",
   "metadata": {},
   "outputs": [],
   "source": [
    "import warnings\n",
    "\n",
    "warnings.filterwarnings('ignore')"
   ]
  },
  {
   "cell_type": "code",
   "execution_count": 227,
   "id": "e2a27a49-1542-476c-bb5c-eca5ccfd056f",
   "metadata": {},
   "outputs": [
    {
     "data": {
      "text/html": [
       "<div>\n",
       "<style scoped>\n",
       "    .dataframe tbody tr th:only-of-type {\n",
       "        vertical-align: middle;\n",
       "    }\n",
       "\n",
       "    .dataframe tbody tr th {\n",
       "        vertical-align: top;\n",
       "    }\n",
       "\n",
       "    .dataframe thead th {\n",
       "        text-align: right;\n",
       "    }\n",
       "</style>\n",
       "<table border=\"1\" class=\"dataframe\">\n",
       "  <thead>\n",
       "    <tr style=\"text-align: right;\">\n",
       "      <th></th>\n",
       "      <th>은행코드</th>\n",
       "      <th>은행명</th>\n",
       "      <th>상품코드</th>\n",
       "      <th>상품명</th>\n",
       "      <th>상품일련번호</th>\n",
       "      <th>계약기간개월수_최소구간</th>\n",
       "      <th>계약기간개월수_최대구간</th>\n",
       "      <th>가입금액_최소구간</th>\n",
       "      <th>가입금액_최대구간</th>\n",
       "      <th>통장거치식_신규가입금액_단위</th>\n",
       "      <th>...</th>\n",
       "      <th>우대금리조건_기타2_우대금리</th>\n",
       "      <th>우대금리조건_기타3_여부</th>\n",
       "      <th>우대금리조건_기타3_조건</th>\n",
       "      <th>우대금리조건_기타3_우대금리</th>\n",
       "      <th>우대금리조건_기타4_여부</th>\n",
       "      <th>우대금리조건_기타4_조건</th>\n",
       "      <th>우대금리조건_기타4_우대금리</th>\n",
       "      <th>우대금리조건_기타5_여부</th>\n",
       "      <th>우대금리조건_기타5_조건</th>\n",
       "      <th>우대금리조건_기타5_우대금리</th>\n",
       "    </tr>\n",
       "  </thead>\n",
       "  <tbody>\n",
       "    <tr>\n",
       "      <th>0</th>\n",
       "      <td>A17</td>\n",
       "      <td>웰컴저축은행</td>\n",
       "      <td>A17-00019</td>\n",
       "      <td>WELCOME 체크플러스2 정기적금</td>\n",
       "      <td>1</td>\n",
       "      <td>12개월 이상</td>\n",
       "      <td>24개월미만</td>\n",
       "      <td>제한없음</td>\n",
       "      <td>제한없음</td>\n",
       "      <td>제한없음</td>\n",
       "      <td>...</td>\n",
       "      <td>NaN</td>\n",
       "      <td>NaN</td>\n",
       "      <td>NaN</td>\n",
       "      <td>NaN</td>\n",
       "      <td>NaN</td>\n",
       "      <td>NaN</td>\n",
       "      <td>NaN</td>\n",
       "      <td>NaN</td>\n",
       "      <td>NaN</td>\n",
       "      <td>NaN</td>\n",
       "    </tr>\n",
       "    <tr>\n",
       "      <th>1</th>\n",
       "      <td>A17</td>\n",
       "      <td>웰컴저축은행</td>\n",
       "      <td>A17-00019</td>\n",
       "      <td>WELCOME 체크플러스2 정기적금</td>\n",
       "      <td>2</td>\n",
       "      <td>24개월</td>\n",
       "      <td>24개월</td>\n",
       "      <td>제한없음</td>\n",
       "      <td>제한없음</td>\n",
       "      <td>제한없음</td>\n",
       "      <td>...</td>\n",
       "      <td>NaN</td>\n",
       "      <td>NaN</td>\n",
       "      <td>NaN</td>\n",
       "      <td>NaN</td>\n",
       "      <td>NaN</td>\n",
       "      <td>NaN</td>\n",
       "      <td>NaN</td>\n",
       "      <td>NaN</td>\n",
       "      <td>NaN</td>\n",
       "      <td>NaN</td>\n",
       "    </tr>\n",
       "    <tr>\n",
       "      <th>2</th>\n",
       "      <td>007</td>\n",
       "      <td>수협은행</td>\n",
       "      <td>007-00019</td>\n",
       "      <td>Real통장</td>\n",
       "      <td>1</td>\n",
       "      <td>제한없음</td>\n",
       "      <td>제한없음</td>\n",
       "      <td>제한없음</td>\n",
       "      <td>제한없음</td>\n",
       "      <td>제한없음</td>\n",
       "      <td>...</td>\n",
       "      <td>NaN</td>\n",
       "      <td>NaN</td>\n",
       "      <td>NaN</td>\n",
       "      <td>NaN</td>\n",
       "      <td>NaN</td>\n",
       "      <td>NaN</td>\n",
       "      <td>NaN</td>\n",
       "      <td>NaN</td>\n",
       "      <td>NaN</td>\n",
       "      <td>NaN</td>\n",
       "    </tr>\n",
       "    <tr>\n",
       "      <th>3</th>\n",
       "      <td>A16</td>\n",
       "      <td>예가람저축은행</td>\n",
       "      <td>A16-00005</td>\n",
       "      <td>표지어음</td>\n",
       "      <td>2</td>\n",
       "      <td>60일 이상</td>\n",
       "      <td>89일 이하</td>\n",
       "      <td>제한없음</td>\n",
       "      <td>제한없음</td>\n",
       "      <td>제한없음(원단위)</td>\n",
       "      <td>...</td>\n",
       "      <td>NaN</td>\n",
       "      <td>NaN</td>\n",
       "      <td>NaN</td>\n",
       "      <td>NaN</td>\n",
       "      <td>NaN</td>\n",
       "      <td>NaN</td>\n",
       "      <td>NaN</td>\n",
       "      <td>NaN</td>\n",
       "      <td>NaN</td>\n",
       "      <td>NaN</td>\n",
       "    </tr>\n",
       "    <tr>\n",
       "      <th>4</th>\n",
       "      <td>034</td>\n",
       "      <td>광주은행</td>\n",
       "      <td>034-00014</td>\n",
       "      <td>KJB주택연금 지킴이 통장</td>\n",
       "      <td>1</td>\n",
       "      <td>제한없음</td>\n",
       "      <td>제한없음</td>\n",
       "      <td>제한없음</td>\n",
       "      <td>제한없음</td>\n",
       "      <td>0원 이상</td>\n",
       "      <td>...</td>\n",
       "      <td>NaN</td>\n",
       "      <td>NaN</td>\n",
       "      <td>NaN</td>\n",
       "      <td>NaN</td>\n",
       "      <td>NaN</td>\n",
       "      <td>NaN</td>\n",
       "      <td>NaN</td>\n",
       "      <td>NaN</td>\n",
       "      <td>NaN</td>\n",
       "      <td>NaN</td>\n",
       "    </tr>\n",
       "  </tbody>\n",
       "</table>\n",
       "<p>5 rows × 159 columns</p>\n",
       "</div>"
      ],
      "text/plain": [
       "  은행코드      은행명       상품코드                  상품명  상품일련번호 계약기간개월수_최소구간  \\\n",
       "0  A17   웰컴저축은행  A17-00019  WELCOME 체크플러스2 정기적금       1      12개월 이상   \n",
       "1  A17   웰컴저축은행  A17-00019  WELCOME 체크플러스2 정기적금       2         24개월   \n",
       "2  007     수협은행  007-00019               Real통장       1         제한없음   \n",
       "3  A16  예가람저축은행  A16-00005                 표지어음       2       60일 이상   \n",
       "4  034     광주은행  034-00014       KJB주택연금 지킴이 통장       1         제한없음   \n",
       "\n",
       "  계약기간개월수_최대구간 가입금액_최소구간 가입금액_최대구간 통장거치식_신규가입금액_단위  ... 우대금리조건_기타2_우대금리  \\\n",
       "0       24개월미만      제한없음      제한없음            제한없음  ...             NaN   \n",
       "1         24개월      제한없음      제한없음            제한없음  ...             NaN   \n",
       "2         제한없음      제한없음      제한없음            제한없음  ...             NaN   \n",
       "3       89일 이하      제한없음      제한없음       제한없음(원단위)  ...             NaN   \n",
       "4         제한없음      제한없음      제한없음           0원 이상  ...             NaN   \n",
       "\n",
       "  우대금리조건_기타3_여부 우대금리조건_기타3_조건 우대금리조건_기타3_우대금리  우대금리조건_기타4_여부 우대금리조건_기타4_조건  \\\n",
       "0           NaN           NaN             NaN            NaN           NaN   \n",
       "1           NaN           NaN             NaN            NaN           NaN   \n",
       "2           NaN           NaN             NaN            NaN           NaN   \n",
       "3           NaN           NaN             NaN            NaN           NaN   \n",
       "4           NaN           NaN             NaN            NaN           NaN   \n",
       "\n",
       "  우대금리조건_기타4_우대금리 우대금리조건_기타5_여부 우대금리조건_기타5_조건 우대금리조건_기타5_우대금리  \n",
       "0             NaN           NaN           NaN             NaN  \n",
       "1             NaN           NaN           NaN             NaN  \n",
       "2             NaN           NaN           NaN             NaN  \n",
       "3             NaN           NaN           NaN             NaN  \n",
       "4             NaN           NaN           NaN             NaN  \n",
       "\n",
       "[5 rows x 159 columns]"
      ]
     },
     "execution_count": 227,
     "metadata": {},
     "output_type": "execute_result"
    }
   ],
   "source": [
    "import pandas as pd\n",
    "\n",
    "df = pd.read_csv(DATA_PATH + '금융상품정보/은행수신상품.csv')\n",
    "df.head()"
   ]
  },
  {
   "cell_type": "markdown",
   "id": "13a3b853-3e30-4829-b04c-086668e17058",
   "metadata": {},
   "source": [
    "## 은행명, 은행코드"
   ]
  },
  {
   "cell_type": "markdown",
   "id": "0082e4b2-823e-4620-b686-583fb0600ff6",
   "metadata": {},
   "source": [
    "#### 은행명, 은행코드 병합"
   ]
  },
  {
   "cell_type": "code",
   "execution_count": 228,
   "id": "3deb54db-1380-4aff-ba86-dce48df8c9bd",
   "metadata": {},
   "outputs": [],
   "source": [
    "bank_name_code = df[['은행코드', '은행명']]\n",
    "df.drop('은행명', axis=1, inplace=True)"
   ]
  },
  {
   "cell_type": "markdown",
   "id": "cd04e1c2-7ce1-4233-858b-b67278452590",
   "metadata": {},
   "source": [
    "#### 은행코드 라벨링"
   ]
  },
  {
   "cell_type": "code",
   "execution_count": 229,
   "id": "8186af62-e882-4a39-8520-9f370a2f3a4e",
   "metadata": {},
   "outputs": [],
   "source": [
    "bank_code_list = df['은행코드'].unique()\n",
    "bank_code_dict = {code: idx for idx, code in enumerate(bank_code_list)}\n",
    "df['bank_code_labeled'] = [ bank_code_dict[code] for code in df['은행코드'] ]\n",
    "bank_name_code['bank_code_labeled'] = [ bank_code_dict[code] for code in df['은행코드'] ]\n",
    "df.drop('은행코드', axis=1, inplace=True)"
   ]
  },
  {
   "cell_type": "code",
   "execution_count": 230,
   "id": "86cea164-7b2d-4433-8119-764a9b7ee7ae",
   "metadata": {},
   "outputs": [],
   "source": [
    "bank_name_code.drop_duplicates(inplace=True)\n",
    "bank_name_code.sort_values(by='bank_code_labeled', inplace=True)\n",
    "bank_name_code.to_csv('../data/modified/bank_name_code.csv', index=False)"
   ]
  },
  {
   "cell_type": "markdown",
   "id": "cb06a60c-ec34-4983-b0c9-4ca2f88c64c7",
   "metadata": {},
   "source": [
    "## 상품코드, 상품명\n",
    "* 은행코드와 동일하게 처리"
   ]
  },
  {
   "cell_type": "code",
   "execution_count": 231,
   "id": "1e560715-6fd7-4f90-8f6a-7dcd949b01da",
   "metadata": {},
   "outputs": [],
   "source": [
    "product_name_code = df[['상품코드', '상품명']]\n",
    "df.drop('상품명', axis=1, inplace=True)\n",
    "\n",
    "product_code_list = df['상품코드'].unique()\n",
    "product_code_dict = {code: idx for idx, code in enumerate(product_code_list)}\n",
    "df['product_code_labeled'] = [ product_code_dict[code] for code in df['상품코드'] ]\n",
    "product_name_code['product_code_labeled'] = [ product_code_dict[code] for code in df['상품코드'] ]\n",
    "df.drop('상품코드', axis=1, inplace=True)"
   ]
  },
  {
   "cell_type": "markdown",
   "id": "133bbe95-c90e-4c00-ac3a-b98ed1a6a33c",
   "metadata": {},
   "source": [
    "#### 상품일련번호 제거\n",
    "* 은행마다 달라서 product_code_labeled 로 통일"
   ]
  },
  {
   "cell_type": "code",
   "execution_count": 232,
   "id": "be05dc7d-d881-462f-9428-db7d1bdbc989",
   "metadata": {},
   "outputs": [],
   "source": [
    "df.drop('상품일련번호', axis=1, inplace=True)"
   ]
  },
  {
   "cell_type": "markdown",
   "id": "648a81c9-752a-4247-8639-ed07c2a29e91",
   "metadata": {},
   "source": [
    "## 계약기간"
   ]
  },
  {
   "cell_type": "markdown",
   "id": "d701d73d-251e-4f51-bffa-eee9254cdcf1",
   "metadata": {},
   "source": [
    "#### 계약기간 라벨링\n",
    "* 제한없음 : 0\n",
    "* 단기 (~12개월): 1\n",
    "* 중장기 (12개월~36개월): 2\n",
    "* 장기 (~36개): 3"
   ]
  },
  {
   "cell_type": "code",
   "execution_count": 233,
   "id": "21081336-a741-44e0-ad3e-88f678721075",
   "metadata": {},
   "outputs": [
    {
     "data": {
      "text/plain": [
       "array(['24개월미만', '24개월', '제한없음', '89일 이하', '364일 이하', '12개월', '3개월 미만',\n",
       "       '36개월 미만', '24개월 미만', '12개월 미만', '36개월', '6개월 미만', '6개월', '1개월 미만',\n",
       "       '90일 이하', '30일', '59일 이하', '3개월', '1개월 이하', '2개월 미만', '36개월 이하',\n",
       "       '60개월 미만', '91일 이하', '60개월 이하', '18개월 미만', '12개월미만', '48개월',\n",
       "       '16개월 미만', '24개월 이하', '12개월 이하', '48개월미만', '60개월이하', '6개월미만',\n",
       "       '20일 이하', '180개월', '24개월이하', '60개월', '365일', '7일 미만', '90일',\n",
       "       '179일 이하', '180일', '36개월이하', '36개월  미만', '48개월 미만', '12개월  미만',\n",
       "       '24개월  미만', '48개월  미만', '60개월  미만', '30개월 미만', '36개월미만', '15개월 미만',\n",
       "       '72개월이하', '548일 이하', '600개월 이하', '120개월 이하', '9개월 미만', '10개월 미만',\n",
       "       '13개월 미만', '18개월', '1개월', '3개월미만', '180일 이하', '90일 미만', '181일 미만',\n",
       "       '365일 미만', '730일 미만', '1095일 미만', '1095일', '180개월 이하', '60일 이하',\n",
       "       '7개월 미만', '25개월 미만', '37개월 미만', '6개월 이하', '6일 이하', '72개월', '78개월',\n",
       "       '100일', '11개월 이하', '35개월 이하', '29일 이하', '5개월 이하', '23개월 이하',\n",
       "       '36 개월', '204개월 이하', '240개월 이하', '360개월 이하', '300개월 이하', '60일 미만',\n",
       "       '120일 미만', '270일 이하', '120개월', '60개월(저축기간 3년, 지급기간 2년)', '3개월 이하',\n",
       "       '모집기간 종료일 다음날로부터 12개월', '9개월', '840개월', '11개월', '2개월',\n",
       "       '360개월(30년) 이하', '36개월제', '60개월제', '31일', '200일', '7개월',\n",
       "       '3개월(12주)', '120개월(10년) 이하', '15개월 이하', '13개월', '30개월', '273일 이하',\n",
       "       '380일 이하', '72개월 이하', '15개월미만', '60개월미만', '9개월미만', '12개월이하',\n",
       "       '10일 이하', '36개월이만', '18개월미만', '06개월미만', '11개월이하'], dtype=object)"
      ]
     },
     "execution_count": 233,
     "metadata": {},
     "output_type": "execute_result"
    }
   ],
   "source": [
    "df['계약기간개월수_최대구간'].unique()"
   ]
  },
  {
   "cell_type": "code",
   "execution_count": 234,
   "id": "ae6ef672-177d-4ca3-be7a-e501aaaf7e0a",
   "metadata": {},
   "outputs": [
    {
     "data": {
      "text/plain": [
       "0       24개월미만\n",
       "1         24개월\n",
       "2         제한없음\n",
       "3       89일 이하\n",
       "4         제한없음\n",
       "         ...  \n",
       "2775      제한없음\n",
       "2776      제한없음\n",
       "2777    24개월미만\n",
       "2778    12개월미만\n",
       "2779    36개월이하\n",
       "Name: contract_term, Length: 2780, dtype: object"
      ]
     },
     "execution_count": 234,
     "metadata": {},
     "output_type": "execute_result"
    }
   ],
   "source": [
    "df.drop('계약기간개월수_최소구간', axis=1, inplace=True)\n",
    "df.rename(columns={'계약기간개월수_최대구간' : 'contract_term'}, inplace=True)\n",
    "df['contract_term']"
   ]
  },
  {
   "cell_type": "code",
   "execution_count": 235,
   "id": "171b0ad3-7669-4a40-b0ce-a5f5fc2bee58",
   "metadata": {},
   "outputs": [],
   "source": [
    "import re\n",
    "\n",
    "def contract_term_to_month(term):\n",
    "    if term[0] == '제':\n",
    "        return -1\n",
    "    month = int(re.findall(r'\\d+', term)[0])\n",
    "    if '일' in term:\n",
    "        month /= 30\n",
    "        \n",
    "    return int(month)"
   ]
  },
  {
   "cell_type": "code",
   "execution_count": 236,
   "id": "3f886701-c526-4db7-8ddd-620cdea73624",
   "metadata": {},
   "outputs": [],
   "source": [
    "df['contract_term'] = [ contract_term_to_month(term) for term in df['contract_term'] ]"
   ]
  },
  {
   "cell_type": "code",
   "execution_count": 237,
   "id": "d69c1d6f-46db-4f4b-a563-b874af5d4769",
   "metadata": {},
   "outputs": [],
   "source": [
    "def label_term(term):\n",
    "    if term < 12:\n",
    "        return 1\n",
    "    elif term >= 12 and term < 36:\n",
    "        return 2\n",
    "    elif term > 36:\n",
    "        return 3\n",
    "    return 0\n",
    "\n",
    "df['contract_term_label'] = [ label_term(term) for term in df['contract_term'] ]"
   ]
  },
  {
   "cell_type": "code",
   "execution_count": 238,
   "id": "cb3fe753-d210-4c1a-ae58-7d04418b2ac0",
   "metadata": {},
   "outputs": [
    {
     "data": {
      "image/png": "[encoded data removed]",
      "text/plain": [
       "<Figure size 640x480 with 1 Axes>"
      ]
     },
     "metadata": {},
     "output_type": "display_data"
    }
   ],
   "source": [
    "index = list(range(len(df['contract_term_label'])))\n",
    "\n",
    "plt.bar(index, df['contract_term_label'].sort_values())\n",
    "\n",
    "plt.xlabel('Index')\n",
    "plt.ylabel('Contract Term (Labeled)')\n",
    "plt.title('Contract Term Label Distribution')\n",
    "\n",
    "plt.show()"
   ]
  },
  {
   "cell_type": "markdown",
   "id": "a5fcedc6-6510-4a65-8b8a-f26c73eaf381",
   "metadata": {},
   "source": [
    "## 가입금액"
   ]
  },
  {
   "cell_type": "code",
   "execution_count": 257,
   "id": "40bfe143-8a36-49c8-92a2-24de6561c514",
   "metadata": {},
   "outputs": [
    {
     "data": {
      "text/plain": [
       "array(['제한없음', '0원', '2억원 이하', '1천만원 이하', '1억원 이하', '1억까지', '100억원 이하',\n",
       "       '1억원', '300억원이하', '3천만원 미만', '10억원 이하', '20억원 이하', '5억원 이하',\n",
       "       '3억원 이하', '입금 건별 185만원 이하', '일3만원 이하 및 잔액 30만원 이하', '제한없음 (원 단위)',\n",
       "       '10만원', '5천만원 이하', '1억원 미만', '1억원 이하(1인당 합산)',\n",
       "       '3천만원까지 (동일인당한도3천만원)', '3천만원', '10억원', 'e-SeedMoney정기적금 만기해약금액',\n",
       "       '1천만원', '50억원 이하', '30억원 이하', '10백만원 이하', '고객별 5천만원 이하',\n",
       "       '고객별 1억원 이하', 'e-SeedMoney정기적금 만기해약금액 이하', '천만원 이하', '100억원이하',\n",
       "       '5,000만원이하', '5.000만원이하', '3천만원까지', '고객별 2백만원 이하'], dtype=object)"
      ]
     },
     "execution_count": 257,
     "metadata": {},
     "output_type": "execute_result"
    }
   ],
   "source": [
    "df['가입금액_최대구간'].unique()"
   ]
  },
  {
   "cell_type": "code",
   "execution_count": 262,
   "id": "0efad901-087b-4ab3-8c73-ed005ea8aa31",
   "metadata": {},
   "outputs": [],
   "source": [
    "def parse_amount(text):\n",
    "    if '제한없음' in text:\n",
    "        return 0\n",
    "    korean_numbers = {\n",
    "        '천': 1000,\n",
    "        '백': 100,\n",
    "        '만': 10000,\n",
    "        '억': 100000000\n",
    "    }\n",
    "    text = text.replace(',', '')\n",
    "    num = int(re.findall(r'\\d+', text)[0])\n",
    "    scale = re.findall(r'[백천만억원]', text)\n",
    "    for c in scale:\n",
    "        if c == '원':\n",
    "            break\n",
    "        num *= korean_numbers[c]\n",
    "    return num"
   ]
  },
  {
   "cell_type": "code",
   "execution_count": 263,
   "id": "01956a4a-606a-4850-a0fe-9c164f30618b",
   "metadata": {},
   "outputs": [
    {
     "ename": "IndexError",
     "evalue": "list index out of range",
     "output_type": "error",
     "traceback": [
      "\u001b[1;31m---------------------------------------------------------------------------\u001b[0m",
      "\u001b[1;31mIndexError\u001b[0m                                Traceback (most recent call last)",
      "Cell \u001b[1;32mIn[263], line 1\u001b[0m\n\u001b[1;32m----> 1\u001b[0m df[\u001b[38;5;124m'\u001b[39m\u001b[38;5;124mregister_amount\u001b[39m\u001b[38;5;124m'\u001b[39m] \u001b[38;5;241m=\u001b[39m [ parse_amount(text) \u001b[38;5;28;01mfor\u001b[39;00m text \u001b[38;5;129;01min\u001b[39;00m df[\u001b[38;5;124m'\u001b[39m\u001b[38;5;124m가입금액_최대구간\u001b[39m\u001b[38;5;124m'\u001b[39m] ]\n",
      "Cell \u001b[1;32mIn[263], line 1\u001b[0m, in \u001b[0;36m<listcomp>\u001b[1;34m(.0)\u001b[0m\n\u001b[1;32m----> 1\u001b[0m df[\u001b[38;5;124m'\u001b[39m\u001b[38;5;124mregister_amount\u001b[39m\u001b[38;5;124m'\u001b[39m] \u001b[38;5;241m=\u001b[39m [ \u001b[43mparse_amount\u001b[49m\u001b[43m(\u001b[49m\u001b[43mtext\u001b[49m\u001b[43m)\u001b[49m \u001b[38;5;28;01mfor\u001b[39;00m text \u001b[38;5;129;01min\u001b[39;00m df[\u001b[38;5;124m'\u001b[39m\u001b[38;5;124m가입금액_최대구간\u001b[39m\u001b[38;5;124m'\u001b[39m] ]\n",
      "Cell \u001b[1;32mIn[262], line 11\u001b[0m, in \u001b[0;36mparse_amount\u001b[1;34m(text)\u001b[0m\n\u001b[0;32m      4\u001b[0m korean_numbers \u001b[38;5;241m=\u001b[39m {\n\u001b[0;32m      5\u001b[0m     \u001b[38;5;124m'\u001b[39m\u001b[38;5;124m천\u001b[39m\u001b[38;5;124m'\u001b[39m: \u001b[38;5;241m1000\u001b[39m,\n\u001b[0;32m      6\u001b[0m     \u001b[38;5;124m'\u001b[39m\u001b[38;5;124m백\u001b[39m\u001b[38;5;124m'\u001b[39m: \u001b[38;5;241m100\u001b[39m,\n\u001b[0;32m      7\u001b[0m     \u001b[38;5;124m'\u001b[39m\u001b[38;5;124m만\u001b[39m\u001b[38;5;124m'\u001b[39m: \u001b[38;5;241m10000\u001b[39m,\n\u001b[0;32m      8\u001b[0m     \u001b[38;5;124m'\u001b[39m\u001b[38;5;124m억\u001b[39m\u001b[38;5;124m'\u001b[39m: \u001b[38;5;241m100000000\u001b[39m\n\u001b[0;32m      9\u001b[0m }\n\u001b[0;32m     10\u001b[0m text \u001b[38;5;241m=\u001b[39m text\u001b[38;5;241m.\u001b[39mreplace(\u001b[38;5;124m'\u001b[39m\u001b[38;5;124m,\u001b[39m\u001b[38;5;124m'\u001b[39m, \u001b[38;5;124m'\u001b[39m\u001b[38;5;124m'\u001b[39m)\n\u001b[1;32m---> 11\u001b[0m num \u001b[38;5;241m=\u001b[39m \u001b[38;5;28mint\u001b[39m(\u001b[43mre\u001b[49m\u001b[38;5;241;43m.\u001b[39;49m\u001b[43mfindall\u001b[49m\u001b[43m(\u001b[49m\u001b[38;5;124;43mr\u001b[39;49m\u001b[38;5;124;43m'\u001b[39;49m\u001b[38;5;124;43m\\\u001b[39;49m\u001b[38;5;124;43md+\u001b[39;49m\u001b[38;5;124;43m'\u001b[39;49m\u001b[43m,\u001b[49m\u001b[43m \u001b[49m\u001b[43mtext\u001b[49m\u001b[43m)\u001b[49m\u001b[43m[\u001b[49m\u001b[38;5;241;43m0\u001b[39;49m\u001b[43m]\u001b[49m)\n\u001b[0;32m     12\u001b[0m scale \u001b[38;5;241m=\u001b[39m re\u001b[38;5;241m.\u001b[39mfindall(\u001b[38;5;124mr\u001b[39m\u001b[38;5;124m'\u001b[39m\u001b[38;5;124m[백천만억원]\u001b[39m\u001b[38;5;124m'\u001b[39m, text)\n\u001b[0;32m     13\u001b[0m \u001b[38;5;28;01mfor\u001b[39;00m c \u001b[38;5;129;01min\u001b[39;00m scale:\n",
      "\u001b[1;31mIndexError\u001b[0m: list index out of range"
     ]
    }
   ],
   "source": [
    "df['register_amount'] = [ parse_amount(text) for text in df['가입금액_최대구간'] ]"
   ]
  },
  {
   "cell_type": "code",
   "execution_count": null,
   "id": "ac10675a-5341-43c9-ab79-65c58cd49985",
   "metadata": {},
   "outputs": [],
   "source": []
  }
 ],
 "metadata": {
  "kernelspec": {
   "display_name": "Python 3 (ipykernel)",
   "language": "python",
   "name": "python3"
  },
  "language_info": {
   "codemirror_mode": {
    "name": "ipython",
    "version": 3
   },
   "file_extension": ".py",
   "mimetype": "text/x-python",
   "name": "python",
   "nbconvert_exporter": "python",
   "pygments_lexer": "ipython3",
   "version": "3.8.18"
  }
 },
 "nbformat": 4,
 "nbformat_minor": 5
}
