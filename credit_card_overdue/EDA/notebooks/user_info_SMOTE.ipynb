{
 "cells": [
  {
   "cell_type": "code",
   "execution_count": 1,
   "id": "f4850939-2b92-450c-8377-09214a288486",
   "metadata": {},
   "outputs": [
    {
     "name": "stdout",
     "output_type": "stream",
     "text": [
      "<class 'pandas.core.frame.DataFrame'>\n",
      "RangeIndex: 2976718 entries, 0 to 2976717\n",
      "Data columns (total 69 columns):\n",
      " #   Column              Dtype  \n",
      "---  ------              -----  \n",
      " 0   Unnamed: 0          int64  \n",
      " 1   최초한도금액              int64  \n",
      " 2   카드이용한도금액            int64  \n",
      " 3   CA한도금액              int64  \n",
      " 4   일시상환론한도금액           int64  \n",
      " 5   월상환론한도금액            int64  \n",
      " 6   CA이자율_할인전           float64\n",
      " 7   CL이자율_할인전           float64\n",
      " 8   RV일시불이자율_할인전        float64\n",
      " 9   RV현금서비스이자율_할인전      float64\n",
      " 10  카드이용한도금액_B1M        int64  \n",
      " 11  카드이용한도금액_B2M        int64  \n",
      " 12  특별한도보유여부_R3M        int64  \n",
      " 13  연체감액여부_R3M          int64  \n",
      " 14  한도심사요청건수            int64  \n",
      " 15  한도요청거절건수            int64  \n",
      " 16  한도심사요청후경과월          int64  \n",
      " 17  한도심사거절후경과월          int64  \n",
      " 18  시장단기연체여부_R6M        int64  \n",
      " 19  시장단기연체여부_R3M        int64  \n",
      " 20  시장연체상환여부_R6M        int64  \n",
      " 21  시장연체상환여부_R3M        int64  \n",
      " 22  rv최초시작후경과일          int64  \n",
      " 23  카드이용한도금액_log        float64\n",
      " 24  남녀구분코드              int64  \n",
      " 25  연령                  int64  \n",
      " 26  회원여부_이용가능           int64  \n",
      " 27  회원여부_이용가능_CA        int64  \n",
      " 28  회원여부_이용가능_카드론       int64  \n",
      " 29  소지여부_신용             int64  \n",
      " 30  소지카드수_유효_신용         int64  \n",
      " 31  소지카드수_이용가능_신용       int64  \n",
      " 32  입회경과개월수_신용          int64  \n",
      " 33  회원여부_연체             int64  \n",
      " 34  이용거절여부_카드론          int64  \n",
      " 35  탈회횟수_발급6개월이내        int64  \n",
      " 36  탈회횟수_발급1년이내         int64  \n",
      " 37  유효카드수_신용체크          int64  \n",
      " 38  유효카드수_신용            int64  \n",
      " 39  유효카드수_신용_가족         int64  \n",
      " 40  유효카드수_체크            int64  \n",
      " 41  유효카드수_체크_가족         int64  \n",
      " 42  이용가능카드수_신용체크        int64  \n",
      " 43  이용가능카드수_신용          int64  \n",
      " 44  이용가능카드수_신용_가족       int64  \n",
      " 45  이용가능카드수_체크          int64  \n",
      " 46  이용가능카드수_체크_가족       int64  \n",
      " 47  이용카드수_신용체크          int64  \n",
      " 48  이용카드수_신용            int64  \n",
      " 49  이용카드수_신용_가족         int64  \n",
      " 50  이용카드수_체크            int64  \n",
      " 51  이용카드수_체크_가족         int64  \n",
      " 52  이용금액_R3M_신용체크       int64  \n",
      " 53  이용금액_R3M_신용         int64  \n",
      " 54  이용금액_R3M_신용_가족      int64  \n",
      " 55  이용금액_R3M_체크         int64  \n",
      " 56  이용금액_R3M_체크_가족      int64  \n",
      " 57  _1순위카드이용금액          int64  \n",
      " 58  _1순위카드이용건수          int64  \n",
      " 59  _1순위신용체크구분          int64  \n",
      " 60  최종카드발급일자            object \n",
      " 61  보유여부_해외겸용_본인        int64  \n",
      " 62  이용가능여부_해외겸용_본인      int64  \n",
      " 63  이용여부_3M_해외겸용_본인     int64  \n",
      " 64  보유여부_해외겸용_신용_본인     int64  \n",
      " 65  이용가능여부_해외겸용_신용_본인   int64  \n",
      " 66  이용여부_3M_해외겸용_신용_본인  int64  \n",
      " 67  연회비발생카드수_B0M        int64  \n",
      " 68  카드신청건수              int64  \n",
      "dtypes: float64(5), int64(63), object(1)\n",
      "memory usage: 1.5+ GB\n"
     ]
    }
   ],
   "source": [
    "import numpy as np\n",
    "import pandas as pd\n",
    "\n",
    "df = pd.read_csv('../../data/modified/data_pro.csv')\n",
    "df.info()"
   ]
  },
  {
   "cell_type": "code",
   "execution_count": 25,
   "id": "b8e2e889-8235-4058-a96c-931e11d689ae",
   "metadata": {},
   "outputs": [],
   "source": [
    "df.drop('Unnamed: 0', axis=1, inplace=True)"
   ]
  },
  {
   "cell_type": "code",
   "execution_count": 61,
   "id": "e6956f84-8677-4ad6-80af-8fb21d5bfdd4",
   "metadata": {},
   "outputs": [],
   "source": [
    "def comb(a, b, c, d):\n",
    "    return len(df.loc[(df['시장단기연체여부_R3M'] == a) & (df['시장단기연체여부_R6M'] == b) &\n",
    "    (df['시장연체상환여부_R3M'] == c) & (df['시장연체상환여부_R6M'] == d)])"
   ]
  },
  {
   "cell_type": "code",
   "execution_count": 78,
   "id": "d1ad75fb-805b-4661-9888-56d7c5576864",
   "metadata": {},
   "outputs": [
    {
     "data": {
      "text/plain": [
       "0"
      ]
     },
     "execution_count": 78,
     "metadata": {},
     "output_type": "execute_result"
    }
   ],
   "source": [
    "comb(1,1,1,1)"
   ]
  },
  {
   "cell_type": "code",
   "execution_count": 103,
   "id": "44180fa0-ec16-4fc0-ade3-8c21178edf4f",
   "metadata": {},
   "outputs": [
    {
     "data": {
      "text/plain": [
       "2976718"
      ]
     },
     "execution_count": 103,
     "metadata": {},
     "output_type": "execute_result"
    }
   ],
   "source": [
    "len((df['이용여부_3M_해외겸용_본인'] == 0) & (df['이용여부_3M_해외겸용_신용_본인'] == 1))"
   ]
  },
  {
   "cell_type": "code",
   "execution_count": 8,
   "id": "4a9dc27f-d281-4d58-ae0a-2bb722483cb7",
   "metadata": {},
   "outputs": [],
   "source": [
    "from datetime import datetime\n",
    "\n",
    "def how_many_days(date):\n",
    "    date_object = datetime.strptime(date, \"%Y-%m-%d\")\n",
    "    today = datetime.today()\n",
    "    days_diff = (today - date_object).days\n",
    "    return days_diff"
   ]
  },
  {
   "cell_type": "code",
   "execution_count": 101,
   "id": "02503d6f-8f36-4204-af7d-f95cc4214e3d",
   "metadata": {},
   "outputs": [
    {
     "data": {
      "text/plain": [
       "2831343      1\n",
       "713435       1\n",
       "284006       1\n",
       "400594       1\n",
       "1135529      1\n",
       "          ... \n",
       "2827259    223\n",
       "521947     224\n",
       "1486250    224\n",
       "2760553    224\n",
       "713969     225\n",
       "Name: _1순위카드이용건수, Length: 2349682, dtype: int64"
      ]
     },
     "execution_count": 101,
     "metadata": {},
     "output_type": "execute_result"
    }
   ],
   "source": [
    "df.loc[df['_1순위카드이용건수'] > 0]['_1순위카드이용건수'].sort_values()"
   ]
  },
  {
   "cell_type": "code",
   "execution_count": 13,
   "id": "e82e2d17-87b8-4b58-b71a-865d6b0c5ef9",
   "metadata": {},
   "outputs": [
    {
     "name": "stderr",
     "output_type": "stream",
     "text": [
      "\n",
      "KeyboardInterrupt\n",
      "\n"
     ]
    }
   ],
   "source": [
    "df['최종카드발급기간'] = [ how_many_days(date) for date in df['최종카드발급일자'] ]\n",
    "df['최종카드발급기간'][:5]"
   ]
  },
  {
   "cell_type": "code",
   "execution_count": null,
   "id": "707b16b5-47b2-454a-b1b4-3ce07b936ec9",
   "metadata": {},
   "outputs": [],
   "source": []
  }
 ],
 "metadata": {
  "kernelspec": {
   "display_name": "Python 3 (ipykernel)",
   "language": "python",
   "name": "python3"
  },
  "language_info": {
   "codemirror_mode": {
    "name": "ipython",
    "version": 3
   },
   "file_extension": ".py",
   "mimetype": "text/x-python",
   "name": "python",
   "nbconvert_exporter": "python",
   "pygments_lexer": "ipython3",
   "version": "3.8.18"
  }
 },
 "nbformat": 4,
 "nbformat_minor": 5
}
