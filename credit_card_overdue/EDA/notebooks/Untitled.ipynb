{
 "cells": [
  {
   "cell_type": "code",
   "execution_count": 1,
   "id": "5d93beec-3c12-4997-abbc-919e18dcacdc",
   "metadata": {},
   "outputs": [],
   "source": [
    "DATA_PATH = '../../data/given/201807_잔액정보.csv'"
   ]
  },
  {
   "cell_type": "code",
   "execution_count": 2,
   "id": "eec0291c-e981-4570-8728-7cdf43c8ebbb",
   "metadata": {},
   "outputs": [],
   "source": [
    "import pandas as pd\n",
    "\n",
    "df = pd.read_csv(DATA_PATH)"
   ]
  },
  {
   "cell_type": "code",
   "execution_count": 3,
   "id": "6413d83a-36d2-48ae-83fa-e53135a2d952",
   "metadata": {},
   "outputs": [
    {
     "data": {
      "text/html": [
       "<div>\n",
       "<style scoped>\n",
       "    .dataframe tbody tr th:only-of-type {\n",
       "        vertical-align: middle;\n",
       "    }\n",
       "\n",
       "    .dataframe tbody tr th {\n",
       "        vertical-align: top;\n",
       "    }\n",
       "\n",
       "    .dataframe thead th {\n",
       "        text-align: right;\n",
       "    }\n",
       "</style>\n",
       "<table border=\"1\" class=\"dataframe\">\n",
       "  <thead>\n",
       "    <tr style=\"text-align: right;\">\n",
       "      <th></th>\n",
       "      <th>기준년월</th>\n",
       "      <th>발급회원번호</th>\n",
       "      <th>잔액_B0M</th>\n",
       "      <th>잔액_일시불_B0M</th>\n",
       "      <th>잔액_할부_B0M</th>\n",
       "      <th>잔액_현금서비스_B0M</th>\n",
       "      <th>잔액_리볼빙일시불이월_B0M</th>\n",
       "      <th>잔액_리볼빙CA이월_B0M</th>\n",
       "      <th>잔액_카드론_B0M</th>\n",
       "      <th>월중평잔_일시불_B0M</th>\n",
       "      <th>...</th>\n",
       "      <th>평잔_6M</th>\n",
       "      <th>평잔_일시불_6M</th>\n",
       "      <th>평잔_일시불_해외_6M</th>\n",
       "      <th>평잔_RV일시불_6M</th>\n",
       "      <th>평잔_RV일시불_해외_6M</th>\n",
       "      <th>평잔_할부_6M</th>\n",
       "      <th>평잔_할부_해외_6M</th>\n",
       "      <th>평잔_CA_6M</th>\n",
       "      <th>평잔_CA_해외_6M</th>\n",
       "      <th>평잔_카드론_6M</th>\n",
       "    </tr>\n",
       "  </thead>\n",
       "  <tbody>\n",
       "    <tr>\n",
       "      <th>0</th>\n",
       "      <td>201807</td>\n",
       "      <td>SYN_0</td>\n",
       "      <td>2493245</td>\n",
       "      <td>99811</td>\n",
       "      <td>96281</td>\n",
       "      <td>2297153</td>\n",
       "      <td>0</td>\n",
       "      <td>0</td>\n",
       "      <td>0</td>\n",
       "      <td>108404</td>\n",
       "      <td>...</td>\n",
       "      <td>1598898</td>\n",
       "      <td>244003</td>\n",
       "      <td>0</td>\n",
       "      <td>0</td>\n",
       "      <td>0</td>\n",
       "      <td>57273</td>\n",
       "      <td>0</td>\n",
       "      <td>1700813</td>\n",
       "      <td>0</td>\n",
       "      <td>0</td>\n",
       "    </tr>\n",
       "    <tr>\n",
       "      <th>1</th>\n",
       "      <td>201807</td>\n",
       "      <td>SYN_1</td>\n",
       "      <td>495634</td>\n",
       "      <td>256579</td>\n",
       "      <td>239055</td>\n",
       "      <td>0</td>\n",
       "      <td>0</td>\n",
       "      <td>0</td>\n",
       "      <td>0</td>\n",
       "      <td>409061</td>\n",
       "      <td>...</td>\n",
       "      <td>704504</td>\n",
       "      <td>267764</td>\n",
       "      <td>0</td>\n",
       "      <td>283025</td>\n",
       "      <td>0</td>\n",
       "      <td>273649</td>\n",
       "      <td>0</td>\n",
       "      <td>0</td>\n",
       "      <td>0</td>\n",
       "      <td>0</td>\n",
       "    </tr>\n",
       "    <tr>\n",
       "      <th>2</th>\n",
       "      <td>201807</td>\n",
       "      <td>SYN_2</td>\n",
       "      <td>0</td>\n",
       "      <td>0</td>\n",
       "      <td>0</td>\n",
       "      <td>0</td>\n",
       "      <td>0</td>\n",
       "      <td>0</td>\n",
       "      <td>0</td>\n",
       "      <td>0</td>\n",
       "      <td>...</td>\n",
       "      <td>114846</td>\n",
       "      <td>120720</td>\n",
       "      <td>0</td>\n",
       "      <td>0</td>\n",
       "      <td>0</td>\n",
       "      <td>0</td>\n",
       "      <td>0</td>\n",
       "      <td>0</td>\n",
       "      <td>0</td>\n",
       "      <td>0</td>\n",
       "    </tr>\n",
       "    <tr>\n",
       "      <th>3</th>\n",
       "      <td>201807</td>\n",
       "      <td>SYN_3</td>\n",
       "      <td>25771</td>\n",
       "      <td>25771</td>\n",
       "      <td>0</td>\n",
       "      <td>0</td>\n",
       "      <td>0</td>\n",
       "      <td>0</td>\n",
       "      <td>0</td>\n",
       "      <td>19933</td>\n",
       "      <td>...</td>\n",
       "      <td>12345</td>\n",
       "      <td>11593</td>\n",
       "      <td>0</td>\n",
       "      <td>66245</td>\n",
       "      <td>0</td>\n",
       "      <td>0</td>\n",
       "      <td>0</td>\n",
       "      <td>0</td>\n",
       "      <td>0</td>\n",
       "      <td>0</td>\n",
       "    </tr>\n",
       "    <tr>\n",
       "      <th>4</th>\n",
       "      <td>201807</td>\n",
       "      <td>SYN_4</td>\n",
       "      <td>0</td>\n",
       "      <td>0</td>\n",
       "      <td>0</td>\n",
       "      <td>0</td>\n",
       "      <td>0</td>\n",
       "      <td>0</td>\n",
       "      <td>0</td>\n",
       "      <td>0</td>\n",
       "      <td>...</td>\n",
       "      <td>0</td>\n",
       "      <td>0</td>\n",
       "      <td>0</td>\n",
       "      <td>0</td>\n",
       "      <td>0</td>\n",
       "      <td>0</td>\n",
       "      <td>0</td>\n",
       "      <td>0</td>\n",
       "      <td>0</td>\n",
       "      <td>0</td>\n",
       "    </tr>\n",
       "  </tbody>\n",
       "</table>\n",
       "<p>5 rows × 83 columns</p>\n",
       "</div>"
      ],
      "text/plain": [
       "     기준년월 발급회원번호   잔액_B0M  잔액_일시불_B0M  잔액_할부_B0M  잔액_현금서비스_B0M  \\\n",
       "0  201807  SYN_0  2493245       99811      96281       2297153   \n",
       "1  201807  SYN_1   495634      256579     239055             0   \n",
       "2  201807  SYN_2        0           0          0             0   \n",
       "3  201807  SYN_3    25771       25771          0             0   \n",
       "4  201807  SYN_4        0           0          0             0   \n",
       "\n",
       "   잔액_리볼빙일시불이월_B0M  잔액_리볼빙CA이월_B0M  잔액_카드론_B0M  월중평잔_일시불_B0M  ...    평잔_6M  \\\n",
       "0                0               0           0        108404  ...  1598898   \n",
       "1                0               0           0        409061  ...   704504   \n",
       "2                0               0           0             0  ...   114846   \n",
       "3                0               0           0         19933  ...    12345   \n",
       "4                0               0           0             0  ...        0   \n",
       "\n",
       "   평잔_일시불_6M  평잔_일시불_해외_6M  평잔_RV일시불_6M  평잔_RV일시불_해외_6M  평잔_할부_6M  \\\n",
       "0     244003             0            0               0     57273   \n",
       "1     267764             0       283025               0    273649   \n",
       "2     120720             0            0               0         0   \n",
       "3      11593             0        66245               0         0   \n",
       "4          0             0            0               0         0   \n",
       "\n",
       "   평잔_할부_해외_6M  평잔_CA_6M  평잔_CA_해외_6M  평잔_카드론_6M  \n",
       "0            0   1700813            0          0  \n",
       "1            0         0            0          0  \n",
       "2            0         0            0          0  \n",
       "3            0         0            0          0  \n",
       "4            0         0            0          0  \n",
       "\n",
       "[5 rows x 83 columns]"
      ]
     },
     "execution_count": 3,
     "metadata": {},
     "output_type": "execute_result"
    }
   ],
   "source": [
    "df.head()"
   ]
  },
  {
   "cell_type": "code",
   "execution_count": 29,
   "id": "ae9a1189-3f18-4a02-b91b-62cdb371c17c",
   "metadata": {},
   "outputs": [
    {
     "data": {
      "text/plain": [
       "716397"
      ]
     },
     "execution_count": 29,
     "metadata": {},
     "output_type": "execute_result"
    }
   ],
   "source": [
    "len(df.loc[df['잔액_B0M'] == 0])"
   ]
  },
  {
   "cell_type": "code",
   "execution_count": null,
   "id": "22180079-f109-45a5-8401-734caa399786",
   "metadata": {},
   "outputs": [],
   "source": []
  },
  {
   "cell_type": "code",
   "execution_count": 54,
   "id": "c2fc858b-0c1e-4618-8002-a7964d942c47",
   "metadata": {},
   "outputs": [
    {
     "data": {
      "text/html": [
       "<div>\n",
       "<style scoped>\n",
       "    .dataframe tbody tr th:only-of-type {\n",
       "        vertical-align: middle;\n",
       "    }\n",
       "\n",
       "    .dataframe tbody tr th {\n",
       "        vertical-align: top;\n",
       "    }\n",
       "\n",
       "    .dataframe thead th {\n",
       "        text-align: right;\n",
       "    }\n",
       "</style>\n",
       "<table border=\"1\" class=\"dataframe\">\n",
       "  <thead>\n",
       "    <tr style=\"text-align: right;\">\n",
       "      <th></th>\n",
       "      <th>bal</th>\n",
       "    </tr>\n",
       "  </thead>\n",
       "  <tbody>\n",
       "    <tr>\n",
       "      <th>count</th>\n",
       "      <td>1.248166e+06</td>\n",
       "    </tr>\n",
       "    <tr>\n",
       "      <th>mean</th>\n",
       "      <td>1.824866e+06</td>\n",
       "    </tr>\n",
       "    <tr>\n",
       "      <th>std</th>\n",
       "      <td>2.206853e+06</td>\n",
       "    </tr>\n",
       "    <tr>\n",
       "      <th>min</th>\n",
       "      <td>1.000010e+05</td>\n",
       "    </tr>\n",
       "    <tr>\n",
       "      <th>25%</th>\n",
       "      <td>4.719552e+05</td>\n",
       "    </tr>\n",
       "    <tr>\n",
       "      <th>50%</th>\n",
       "      <td>9.793090e+05</td>\n",
       "    </tr>\n",
       "    <tr>\n",
       "      <th>75%</th>\n",
       "      <td>2.204235e+06</td>\n",
       "    </tr>\n",
       "    <tr>\n",
       "      <th>max</th>\n",
       "      <td>2.950054e+07</td>\n",
       "    </tr>\n",
       "  </tbody>\n",
       "</table>\n",
       "</div>"
      ],
      "text/plain": [
       "                bal\n",
       "count  1.248166e+06\n",
       "mean   1.824866e+06\n",
       "std    2.206853e+06\n",
       "min    1.000010e+05\n",
       "25%    4.719552e+05\n",
       "50%    9.793090e+05\n",
       "75%    2.204235e+06\n",
       "max    2.950054e+07"
      ]
     },
     "execution_count": 54,
     "metadata": {},
     "output_type": "execute_result"
    }
   ],
   "source": [
    "import numpy as np\n",
    "\n",
    "balances = df['잔액_B0M'].unique()\n",
    "\n",
    "balances = np.sort(balances)\n",
    "bal_df = pd.DataFrame(balances, columns=['bal'])\n",
    "bal_df.loc[bal_df['bal'] > 100000].describe()"
   ]
  },
  {
   "cell_type": "code",
   "execution_count": 55,
   "id": "2747d43f-6005-4d78-889f-795b86b72e17",
   "metadata": {},
   "outputs": [],
   "source": [
    "def label_bal(bal):\n",
    "    if bal < 100000:\n",
    "        return 0\n",
    "    elif bal < 1000000:\n",
    "        return 1\n",
    "    else:\n",
    "        return 2"
   ]
  },
  {
   "cell_type": "code",
   "execution_count": 59,
   "id": "3dbc66ab-3e3e-4019-966f-c3e068297e0b",
   "metadata": {},
   "outputs": [
    {
     "data": {
      "text/html": [
       "<div>\n",
       "<style scoped>\n",
       "    .dataframe tbody tr th:only-of-type {\n",
       "        vertical-align: middle;\n",
       "    }\n",
       "\n",
       "    .dataframe tbody tr th {\n",
       "        vertical-align: top;\n",
       "    }\n",
       "\n",
       "    .dataframe thead th {\n",
       "        text-align: right;\n",
       "    }\n",
       "</style>\n",
       "<table border=\"1\" class=\"dataframe\">\n",
       "  <thead>\n",
       "    <tr style=\"text-align: right;\">\n",
       "      <th></th>\n",
       "      <th>잔액_B0M</th>\n",
       "      <th>label</th>\n",
       "    </tr>\n",
       "  </thead>\n",
       "  <tbody>\n",
       "    <tr>\n",
       "      <th>0</th>\n",
       "      <td>2493245</td>\n",
       "      <td>2</td>\n",
       "    </tr>\n",
       "    <tr>\n",
       "      <th>1</th>\n",
       "      <td>495634</td>\n",
       "      <td>1</td>\n",
       "    </tr>\n",
       "    <tr>\n",
       "      <th>2</th>\n",
       "      <td>0</td>\n",
       "      <td>0</td>\n",
       "    </tr>\n",
       "    <tr>\n",
       "      <th>3</th>\n",
       "      <td>25771</td>\n",
       "      <td>0</td>\n",
       "    </tr>\n",
       "    <tr>\n",
       "      <th>4</th>\n",
       "      <td>0</td>\n",
       "      <td>0</td>\n",
       "    </tr>\n",
       "  </tbody>\n",
       "</table>\n",
       "</div>"
      ],
      "text/plain": [
       "    잔액_B0M  label\n",
       "0  2493245      2\n",
       "1   495634      1\n",
       "2        0      0\n",
       "3    25771      0\n",
       "4        0      0"
      ]
     },
     "execution_count": 59,
     "metadata": {},
     "output_type": "execute_result"
    }
   ],
   "source": [
    "df['label'] = [ label_bal(bal) for bal in df['잔액_B0M'] ]\n",
    "df[['잔액_B0M','label']].head()"
   ]
  },
  {
   "cell_type": "code",
   "execution_count": 60,
   "id": "556a2900-1fa0-4eeb-830f-980e49b51310",
   "metadata": {},
   "outputs": [
    {
     "data": {
      "text/plain": [
       "label\n",
       "1    1207588\n",
       "0    1113137\n",
       "2     679275\n",
       "Name: count, dtype: int64"
      ]
     },
     "execution_count": 60,
     "metadata": {},
     "output_type": "execute_result"
    }
   ],
   "source": [
    "df['label'].value_counts()"
   ]
  },
  {
   "cell_type": "code",
   "execution_count": 47,
   "id": "65e45199-b773-43cd-8bc6-b24600051493",
   "metadata": {},
   "outputs": [
    {
     "data": {
      "text/html": [
       "<div>\n",
       "<style scoped>\n",
       "    .dataframe tbody tr th:only-of-type {\n",
       "        vertical-align: middle;\n",
       "    }\n",
       "\n",
       "    .dataframe tbody tr th {\n",
       "        vertical-align: top;\n",
       "    }\n",
       "\n",
       "    .dataframe thead th {\n",
       "        text-align: right;\n",
       "    }\n",
       "</style>\n",
       "<table border=\"1\" class=\"dataframe\">\n",
       "  <thead>\n",
       "    <tr style=\"text-align: right;\">\n",
       "      <th></th>\n",
       "      <th>bal</th>\n",
       "    </tr>\n",
       "  </thead>\n",
       "  <tbody>\n",
       "    <tr>\n",
       "      <th>0</th>\n",
       "      <td>0</td>\n",
       "    </tr>\n",
       "    <tr>\n",
       "      <th>1</th>\n",
       "      <td>606</td>\n",
       "    </tr>\n",
       "    <tr>\n",
       "      <th>2</th>\n",
       "      <td>614</td>\n",
       "    </tr>\n",
       "    <tr>\n",
       "      <th>3</th>\n",
       "      <td>618</td>\n",
       "    </tr>\n",
       "    <tr>\n",
       "      <th>4</th>\n",
       "      <td>619</td>\n",
       "    </tr>\n",
       "  </tbody>\n",
       "</table>\n",
       "</div>"
      ],
      "text/plain": [
       "   bal\n",
       "0    0\n",
       "1  606\n",
       "2  614\n",
       "3  618\n",
       "4  619"
      ]
     },
     "execution_count": 47,
     "metadata": {},
     "output_type": "execute_result"
    }
   ],
   "source": [
    "bal_df = pd.DataFrame(balances, columns=['bal'])\n",
    "bal_df.head()"
   ]
  },
  {
   "cell_type": "code",
   "execution_count": 51,
   "id": "0990844e-db0e-41a7-a930-4b22d11d5065",
   "metadata": {},
   "outputs": [
    {
     "data": {
      "text/plain": [
       "1113137"
      ]
     },
     "execution_count": 51,
     "metadata": {},
     "output_type": "execute_result"
    }
   ],
   "source": [
    "len(df.loc[df['잔액_B0M'] < 100000])"
   ]
  },
  {
   "cell_type": "code",
   "execution_count": null,
   "id": "89af0968-39a6-4927-bb92-1eb7d0d18ecd",
   "metadata": {},
   "outputs": [],
   "source": [
    "def labeliz"
   ]
  },
  {
   "cell_type": "code",
   "execution_count": 17,
   "id": "37ae38b5-de17-4cb7-b52f-09cdd3469be0",
   "metadata": {},
   "outputs": [
    {
     "name": "stderr",
     "output_type": "stream",
     "text": [
      "\n",
      "KeyboardInterrupt\n",
      "\n"
     ]
    },
    {
     "name": "stdout",
     "output_type": "stream",
     "text": [
      "Error in callback <function _draw_all_if_interactive at 0x0000025C0F50DD30> (for post_execute):\n"
     ]
    },
    {
     "name": "stderr",
     "output_type": "stream",
     "text": [
      "\n",
      "KeyboardInterrupt\n",
      "\n"
     ]
    },
    {
     "name": "stdout",
     "output_type": "stream",
     "text": [
      "Error in callback <function flush_figures at 0x0000025C0F5283A0> (for post_execute):\n"
     ]
    },
    {
     "name": "stderr",
     "output_type": "stream",
     "text": [
      "\n",
      "KeyboardInterrupt\n",
      "\n"
     ]
    }
   ],
   "source": [
    "import matplotlib.pyplot as plt\n",
    "\n",
    "\n",
    "plt.figure(figsize=(10, 6))\n",
    "plt.bar(range(len(balances)), balances)\n",
    "\n",
    "# Setting x and y labels\n",
    "plt.xlabel('Index')\n",
    "plt.ylabel('Balances Value')\n",
    "plt.title('Balances Bar Graph')\n",
    "\n",
    "# Displaying the plot\n",
    "plt.show()\n"
   ]
  },
  {
   "cell_type": "code",
   "execution_count": null,
   "id": "551e15ad-5760-47a5-896f-223f9bb57cb8",
   "metadata": {},
   "outputs": [],
   "source": []
  }
 ],
 "metadata": {
  "kernelspec": {
   "display_name": "Python 3 (ipykernel)",
   "language": "python",
   "name": "python3"
  },
  "language_info": {
   "codemirror_mode": {
    "name": "ipython",
    "version": 3
   },
   "file_extension": ".py",
   "mimetype": "text/x-python",
   "name": "python",
   "nbconvert_exporter": "python",
   "pygments_lexer": "ipython3",
   "version": "3.8.18"
  }
 },
 "nbformat": 4,
 "nbformat_minor": 5
}
